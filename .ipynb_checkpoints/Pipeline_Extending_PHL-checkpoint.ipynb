{
 "cells": [
  {
   "cell_type": "markdown",
   "metadata": {
    "id": "TbM8WM9qv8ju"
   },
   "source": [
    "# Pipeline to clean and organise the data before training the model"
   ]
  },
  {
   "cell_type": "code",
   "execution_count": null,
   "metadata": {
    "id": "XqYmO2ce9sMb"
   },
   "outputs": [],
   "source": [
    "import os"
   ]
  },
  {
   "cell_type": "code",
   "execution_count": null,
   "metadata": {
    "id": "EL_CBygM96gB"
   },
   "outputs": [],
   "source": [
    "assert os.path.isfile(\"Data/Locibase.json\")\n",
    "assert os.path.isfile(\"Data/esm2_embeddings_rbp.csv\")\n",
    "assert os.path.isfile(\"Data/phage_host_interactions.csv\")\n",
    "assert os.path.isfile(\"Data/RBPbase.csv\")"
   ]
  },
  {
   "cell_type": "markdown",
   "metadata": {
    "id": "qzkgw003jxzf"
   },
   "source": [
    "Zenodo repository:\n",
    "https://zenodo.org/records/11061100\n",
    "\n",
    "Files needed:\n",
    "\n",
    "- _\"Locibase.json\"_\n",
    "- _\"esm2_embeddings_rbp.csv\"_\n",
    "- _\"phage_host_interactions.csv\"_\n",
    "- _\"RBPbase.csv\"_\n",
    "\n",
    "\n",
    "Files generated:\n",
    "- _\"esm2_embeddings_loci_per_protein.csv\"_ <br>\n",
    "Contains the host protein embeddings for each locus protein\n",
    "<br>\n",
    "- _\"all_interactions_no_embeddings.csv\"_ <br>\n",
    "Contains phage-host interactions, without ESM-2 embeddings (to make it lighter) <br>\n",
    "- _\"kaptive_results.tsv\"_ <br>\n",
    "Contains K-loci information for each host, extracted using Kaptive <br>"
   ]
  },
  {
   "cell_type": "markdown",
   "metadata": {
    "id": "G60EOrHpac2P"
   },
   "source": [
    "# Obtaining individual host proteins\n",
    "\n",
    "generates \"esm2_embeddings_loci_per_protein.csv\" from \"Locibase.json\""
   ]
  },
  {
   "cell_type": "code",
   "execution_count": null,
   "metadata": {
    "colab": {
     "base_uri": "https://localhost:8080/"
    },
    "id": "2a2DgWmUaJoN",
    "outputId": "1bf1f2fc-819a-4ab9-b5f6-6998e703bbbc"
   },
   "outputs": [],
   "source": [
    "!pip install fair-esm"
   ]
  },
  {
   "cell_type": "code",
   "execution_count": null,
   "metadata": {
    "colab": {
     "base_uri": "https://localhost:8080/",
     "height": 35
    },
    "id": "JNzZ1oucxtyY",
    "outputId": "13436e44-3aae-4eea-dbfe-9465ba3df0db"
   },
   "outputs": [],
   "source": [
    "import torch\n",
    "\n",
    "torch.__version__"
   ]
  },
  {
   "cell_type": "code",
   "execution_count": null,
   "metadata": {
    "id": "hwhWCU9IaJgt"
   },
   "outputs": [],
   "source": [
    "import json\n",
    "import pandas as pd\n",
    "import numpy as np\n",
    "import torch\n",
    "import esm\n",
    "from tqdm import tqdm\n",
    "\n",
    "def compute_esm2_embeddings_loci_per_protein(general_path, data_suffix='', add=False):\n",
    "    \"\"\"\n",
    "    This function computes ESM-2 embeddings for each individual protein within loci, from the Locibase.json file.\n",
    "\n",
    "    INPUTS:\n",
    "    - general path to the project data folder\n",
    "    - data suffix to optionally add to the saved file name (default='')\n",
    "    OUTPUT: esm2_embeddings_loci_per_protein.csv (with one embedding per protein)\n",
    "    \"\"\"\n",
    "\n",
    "    # Load ESM-2 model\n",
    "    model, alphabet = esm.pretrained.esm2_t33_650M_UR50D()\n",
    "    batch_converter = alphabet.get_batch_converter()\n",
    "    model.eval()  # disables dropout for deterministic results\n",
    "\n",
    "    # Load json file\n",
    "    with open(general_path + '/Locibase' + data_suffix + '.json') as dict_file:\n",
    "        loci_dict = json.load(dict_file)\n",
    "\n",
    "    # if embeddings already exist, to append new ones to them\n",
    "    if add:\n",
    "        old_embeddings_df = pd.read_csv(general_path + '/esm2_embeddings_loci_per_protein' + data_suffix + '.csv')\n",
    "        processed_accession_proteins = set(zip(old_embeddings_df['accession'], old_embeddings_df['protein_index']))\n",
    "        for key in list(loci_dict.keys()):\n",
    "            loci_dict[key] = [seq for i, seq in enumerate(loci_dict[key]) if (key, i) not in processed_accession_proteins]\n",
    "        print('Processing', sum(len(v) for v in loci_dict.values()), 'more protein sequences (add=True)')\n",
    "\n",
    "    # Compute embeddings per protein\n",
    "    protein_representations = []\n",
    "    accessions = []\n",
    "    protein_indices = []\n",
    "\n",
    "    for key in tqdm(loci_dict.keys(), desc=\"Embedding loci proteins\"):\n",
    "        for idx, sequence in enumerate(loci_dict[key]):\n",
    "            data = [(f\"{key}_prot_{idx}\", sequence)]\n",
    "            batch_labels, batch_strs, batch_tokens = batch_converter(data)\n",
    "            with torch.no_grad():\n",
    "                results = model(batch_tokens, repr_layers=[33], return_contacts=True)\n",
    "            token_representations = results[\"representations\"][33]\n",
    "            protein_embedding = token_representations[0, 1 : len(sequence) + 1].mean(0).numpy()\n",
    "\n",
    "            accessions.append(key)\n",
    "            protein_indices.append(idx)\n",
    "            protein_representations.append(protein_embedding)\n",
    "\n",
    "    # Save results\n",
    "    embeddings_df = pd.concat([\n",
    "        pd.DataFrame({'accession': accessions, 'protein_index': protein_indices}),\n",
    "        pd.DataFrame(protein_representations)\n",
    "    ], axis=1)\n",
    "\n",
    "    if add:\n",
    "        embeddings_df = pd.concat([old_embeddings_df, embeddings_df], axis=0, ignore_index=True)\n",
    "\n",
    "    embeddings_df.to_csv(general_path + '/esm2_embeddings_loci_per_protein' + data_suffix + '.csv', index=False)\n",
    "    print(\"Saved embeddings to:\", general_path + '/esm2_embeddings_loci_per_protein' + data_suffix + '.csv')\n",
    "\n",
    "    return embeddings_df\n",
    "\n",
    "\n",
    "loci_path = \"Data\" # \"path_to_folder_containing_Locibase.json\"\n",
    "\n",
    "compute_esm2_embeddings_loci_per_protein(loci_path)"
   ]
  },
  {
   "cell_type": "markdown",
   "metadata": {
    "id": "duWHh1g_Z7u4"
   },
   "source": [
    "# Obtaining confirmed infections-only dataset ('all_interactions_no_embeddings.csv')\n",
    "\n",
    "generates 'all_interactions_no_embeddings.csv' from 'esm2_embeddings_loci_per_protein.csv', 'esm2_embeddings_rbp.csv' and 'phage_host_interactions.csv'\n",
    "\n",
    "adds to it the protein sequences from \"RBPbase.csv\", to generate \"all_infections.csv\""
   ]
  },
  {
   "cell_type": "code",
   "execution_count": null,
   "metadata": {},
   "outputs": [],
   "source": [
    "!pip install xgboost\n",
    "!pip install scikit-learn"
   ]
  },
  {
   "cell_type": "code",
   "execution_count": null,
   "metadata": {
    "id": "EFYeUwmiZ5_t"
   },
   "outputs": [],
   "source": [
    "import pandas as pd\n",
    "import numpy as np\n",
    "from sklearn.model_selection import LeaveOneGroupOut\n",
    "from xgboost import XGBClassifier\n",
    "from tqdm import tqdm\n",
    "from sklearn.metrics import roc_auc_score, auc, roc_curve\n",
    "import matplotlib.pyplot as plt\n",
    "import pickle\n",
    "import os.path\n",
    "\n",
    "\n",
    "\n",
    "embeddings_loci_protein = pd.read_csv(\"Data/esm2_embeddings_loci_per_protein.csv\") # generated above\n",
    "embeddings_rbp = pd.read_csv(\"Data/esm2_embeddings_rbp.csv\")\n",
    "phage_host_interactions = pd.read_csv('Data/phage_host_interactions.csv')\n",
    "\n",
    "# Create a single dataset that has host, phage, and interactions, but not embeddings\n",
    "\n",
    "interactions_melted = phage_host_interactions.melt(\n",
    "    id_vars=['Unnamed: 0'], var_name='phage_ID', value_name='label'\n",
    ").rename(columns={'Unnamed: 0': 'accession'})\n",
    "\n",
    "interactions_melted = interactions_melted.dropna(subset=['label'])\n",
    "\n",
    "merged = interactions_melted.merge(embeddings_loci_protein, on='accession', how='inner')\n",
    "merged = merged.merge(embeddings_rbp, on='phage_ID', how='inner')\n",
    "\n",
    "final_df = merged[['accession', 'phage_ID', 'protein_ID', \"label\"]]\n",
    "\n",
    "print(len(final_df))\n",
    "final_df.drop_duplicates(inplace=True)\n",
    "final_df.reset_index(drop=True, inplace=True)\n",
    "print(len(final_df))\n",
    "\n",
    "final_df.to_csv('Data/all_interactions_no_embeddings.csv', index=False)\n",
    "print(\"Final per-protein dataframe saved as 'Data/all_interactions_no_embeddings.csv'.\")"
   ]
  },
  {
   "cell_type": "code",
   "execution_count": null,
   "metadata": {
    "id": "YYqk0javav8P"
   },
   "outputs": [],
   "source": [
    "# adds Receptor-Binding Proteins to the interactions (no embeddings) file\n",
    "interactions_no_embeddings = pd.read_csv(\"Data/all_interactions_no_embeddings.csv\")\n",
    "RBProteins = pd.read_csv(\"Data/RBPbase.csv\")\n",
    "\n",
    "RBProteins = RBProteins[[\"protein_ID\", \"protein_sequence\"]]\n",
    "RBProteins.head()\n",
    "\n",
    "proteins_no_embeddings = pd.merge(interactions_no_embeddings, RBProteins, how = \"left\", left_on = \"protein_ID\", right_on = \"protein_ID\")\n",
    "\n",
    "proteins_no_embeddings.to_csv(\"Data/all_infections.csv\", index = False)"
   ]
  },
  {
   "cell_type": "markdown",
   "metadata": {
    "id": "2-ZEN5aVawfj"
   },
   "source": [
    "# Using Kaptive to determine K-loci\n",
    "\n",
    "requires the download and unzipping of \"klebsiella_genomes.zip\"\n",
    "\n",
    "generates \"kaptive_results.tsv\""
   ]
  },
  {
   "cell_type": "code",
   "execution_count": null,
   "metadata": {
    "colab": {
     "base_uri": "https://localhost:8080/"
    },
    "id": "fpJQaNUtawDr",
    "outputId": "528ba19e-9a80-41a8-e551-25a41ad35cb1"
   },
   "outputs": [],
   "source": [
    "!pip install kaptive\n",
    "!apt-get install minimap2"
   ]
  },
  {
   "cell_type": "code",
   "execution_count": null,
   "metadata": {
    "id": "rB2SlylCawIn"
   },
   "outputs": [],
   "source": [
    "# K-LOCUS EXTRACTION:\n",
    "\n",
    "!kaptive assembly kpsc_k /path_to_fasta_files/fasta_files/*.fasta -o Data/kaptive_results.tsv -j -p\n",
    "\n",
    "# 8mins to run"
   ]
  },
  {
   "cell_type": "markdown",
   "metadata": {
    "id": "eCCY_DjZbCJc"
   },
   "source": [
    "# Downloading concatenated RBPs of phages that infect specific K-loci as fasta files\n",
    "\n",
    "requires \"all_infections.csv\" and \"kaptive_results.tsv\"\n",
    "generates a .fasta file that contains for each phage infecting a host that belongs to a certain K-locus its proteins, concatenated"
   ]
  },
  {
   "cell_type": "code",
   "execution_count": null,
   "metadata": {
    "colab": {
     "base_uri": "https://localhost:8080/"
    },
    "id": "_byr0zspa6N3",
    "outputId": "742b16f0-2bde-4489-93dd-087c5efccced"
   },
   "outputs": [],
   "source": [
    "!pip install biopython"
   ]
  },
  {
   "cell_type": "code",
   "execution_count": null,
   "metadata": {
    "colab": {
     "base_uri": "https://localhost:8080/",
     "height": 236
    },
    "id": "hRI3MSEosT--",
    "outputId": "ad660a22-a493-4f5b-b99b-e945cd68ab03"
   },
   "outputs": [],
   "source": [
    "import pandas as pd\n",
    "df_sero = pd.read_csv(\"Data/kaptive_results.tsv\", sep=\"\\t\")\n",
    "\n",
    "df_sero.head(2)"
   ]
  },
  {
   "cell_type": "code",
   "execution_count": null,
   "metadata": {
    "colab": {
     "base_uri": "https://localhost:8080/"
    },
    "id": "qpqv-4YlsYLt",
    "outputId": "83dce056-58b1-49da-c198-c17de141fa3d"
   },
   "outputs": [],
   "source": [
    "df_sero[\"Best match type\"].nunique()\n",
    "# 1280 + 87"
   ]
  },
  {
   "cell_type": "code",
   "execution_count": null,
   "metadata": {
    "id": "lPm4i9_c3X7x"
   },
   "outputs": [],
   "source": [
    "import pandas as pd\n",
    "\n",
    "all_infections = pd.read_csv(\"Data/all_infections.csv\")\n",
    "df_sero = pd.read_csv(\"Data/kaptive_results.tsv\", sep=\"\\t\")"
   ]
  },
  {
   "cell_type": "code",
   "execution_count": null,
   "metadata": {
    "colab": {
     "base_uri": "https://localhost:8080/",
     "height": 112
    },
    "id": "CehH1Z4y3X7z",
    "outputId": "29b490d9-0e80-46a8-fa2e-d2d2a93a25a2"
   },
   "outputs": [],
   "source": [
    "all_infections.head(2)"
   ]
  },
  {
   "cell_type": "code",
   "execution_count": null,
   "metadata": {
    "colab": {
     "base_uri": "https://localhost:8080/",
     "height": 211
    },
    "id": "7C3JeOhj3X70",
    "outputId": "6d973a73-caae-4774-8e6c-b7a90a0eb56f"
   },
   "outputs": [],
   "source": [
    "# Combine the infections information with the K-loci information\n",
    "# (\"Best match type\" refers to the K-locus serotype of the host with that \"accession\")\n",
    "df_sero = df_sero[[\"Assembly\", \"Best match type\", \"Match confidence\"]]\n",
    "\n",
    "sero_phage = pd.merge(all_infections, df_sero, how = \"left\", left_on = \"accession\", right_on=\"Assembly\").drop(\"Assembly\", axis=1)\n",
    "\n",
    "sero_phage = sero_phage[sero_phage[\"Match confidence\"] == \"Typeable\"]\n",
    "\n",
    "sero_phage = sero_phage[sero_phage[\"Best match type\"] != \"Capsule null\"]\n",
    "\n",
    "\n",
    "sero_phage.head(2)"
   ]
  }
 ],
 "metadata": {
  "colab": {
   "provenance": []
  },
  "kernelspec": {
   "display_name": "paper",
   "language": "python",
   "name": "paper"
  },
  "language_info": {
   "codemirror_mode": {
    "name": "ipython",
    "version": 3
   },
   "file_extension": ".py",
   "mimetype": "text/x-python",
   "name": "python",
   "nbconvert_exporter": "python",
   "pygments_lexer": "ipython3",
   "version": "3.12.11"
  }
 },
 "nbformat": 4,
 "nbformat_minor": 4
}
